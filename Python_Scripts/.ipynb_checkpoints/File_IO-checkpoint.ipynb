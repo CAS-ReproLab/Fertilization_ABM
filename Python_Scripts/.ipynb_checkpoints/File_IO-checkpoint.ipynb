{
 "cells": [
  {
   "cell_type": "markdown",
   "id": "36744c4f-320d-434e-861c-c4fd603cb0cb",
   "metadata": {},
   "source": [
    "# FIle IO\n",
    "Reads a .csv file as a pandas dataframe and checks encoding using chardet module"
   ]
  },
  {
   "cell_type": "code",
   "execution_count": 46,
   "id": "aa501c54-cf58-4bdc-bd73-ad1afdb885eb",
   "metadata": {
    "scrolled": true
   },
   "outputs": [
    {
     "name": "stdout",
     "output_type": "stream",
     "text": [
      "   Time       UV2-A       UV6-A       B2-A         R1-A  stained  ionomycin\n",
      "0   1.0   3925.4448   6895.2334  4396.1840  -385.962500      0.0        0.0\n",
      "1   6.0   2834.8374   6221.0730  2775.1880   121.756256      0.0        0.0\n",
      "2  30.0   5349.0250  13753.3010  4561.9985   829.400000      0.0        0.0\n",
      "3  33.0  10474.9200  19954.6970  2485.4692   711.493800      0.0        0.0\n",
      "4  34.0   4056.8848   8152.4595  5936.6943  1055.175000      0.0        0.0\n",
      "<class 'pandas.core.frame.DataFrame'>\n",
      "RangeIndex: 355047 entries, 0 to 355046\n",
      "Data columns (total 7 columns):\n",
      " #   Column     Non-Null Count   Dtype  \n",
      "---  ------     --------------   -----  \n",
      " 0   Time       355047 non-null  float64\n",
      " 1   UV2-A      355047 non-null  float64\n",
      " 2   UV6-A      355047 non-null  float64\n",
      " 3   B2-A       355047 non-null  float64\n",
      " 4   R1-A       355047 non-null  float64\n",
      " 5   stained    355047 non-null  float64\n",
      " 6   ionomycin  355047 non-null  float64\n",
      "dtypes: float64(7)\n",
      "memory usage: 19.0 MB\n",
      "None\n",
      "               Time         UV2-A         UV6-A          B2-A          R1-A  \\\n",
      "count  3.550470e+05  3.550470e+05  3.550470e+05  3.550470e+05  3.550470e+05   \n",
      "mean   7.951592e+05  1.603519e+05  5.879245e+05  4.932288e+04  1.869977e+04   \n",
      "std    6.056149e+05  8.627849e+04  3.027917e+05  3.236734e+04  3.997547e+04   \n",
      "min    0.000000e+00 -1.684075e+02  6.532250e+02  1.913731e+02 -8.221125e+02   \n",
      "25%    2.761085e+05  8.979654e+04  3.432777e+05  2.605984e+04  1.227772e+03   \n",
      "50%    6.877350e+05  1.663586e+05  6.427624e+05  4.815467e+04  2.365894e+03   \n",
      "75%    1.116370e+06  2.209672e+05  8.053478e+05  6.571817e+04  1.000206e+04   \n",
      "max    2.252297e+06  3.027432e+06  4.194304e+06  2.652836e+06  2.483445e+06   \n",
      "\n",
      "             stained      ionomycin  \n",
      "count  355047.000000  355047.000000  \n",
      "mean        0.918512       2.607331  \n",
      "std         0.273583       2.497698  \n",
      "min         0.000000       0.000000  \n",
      "25%         1.000000       0.000000  \n",
      "50%         1.000000       5.000000  \n",
      "75%         1.000000       5.000000  \n",
      "max         1.000000       5.000000  \n"
     ]
    }
   ],
   "source": [
    "import pandas as pd\n",
    "import chardet\n",
    "\n",
    "def read_csv_with_encoding(filename):\n",
    "    # Detect encoding\n",
    "    with open(filename, 'rb') as file:\n",
    "        encoding = chardet.detect(file.read(100000))['encoding']  # Reading a portion of the file for efficiency\n",
    "\n",
    "    # Read the file with the detected encoding as a DataFrame\n",
    "    df = pd.read_csv(filename, encoding=encoding)\n",
    "\n",
    "    return df\n",
    "\n",
    "# Example usage\n",
    "filename = 'concatenated.csv'  # Replace with your CSV file name\n",
    "df = read_csv_with_encoding(filename)\n",
    "print(df.head())  # Display the first few rows of the DataFrame\n",
    "print(df.info())\n",
    "print(df.describe())"
   ]
  }
 ],
 "metadata": {
  "kernelspec": {
   "display_name": "Python 3 (ipykernel)",
   "language": "python",
   "name": "python3"
  },
  "language_info": {
   "codemirror_mode": {
    "name": "ipython",
    "version": 3
   },
   "file_extension": ".py",
   "mimetype": "text/x-python",
   "name": "python",
   "nbconvert_exporter": "python",
   "pygments_lexer": "ipython3",
   "version": "3.9.18"
  }
 },
 "nbformat": 4,
 "nbformat_minor": 5
}
