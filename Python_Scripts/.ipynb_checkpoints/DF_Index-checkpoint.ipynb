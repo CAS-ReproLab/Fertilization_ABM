{
 "cells": [
  {
   "cell_type": "markdown",
   "id": "73dcea9d-bbd6-4265-8455-22144c4d3b87",
   "metadata": {},
   "source": [
    "# DataFrame Index Utility (20Mar24) \n",
    "Create a Dataframe with unique (unsorted) values indexed accordingly"
   ]
  },
  {
   "cell_type": "code",
   "execution_count": 1,
   "id": "739a6b58-3fc1-449e-91e4-f5350bfdf02f",
   "metadata": {
    "tags": []
   },
   "outputs": [
    {
     "name": "stdout",
     "output_type": "stream",
     "text": [
      "   Index  Unique freq\n",
      "0      0            1\n",
      "1      1            2\n",
      "2      2            3\n",
      "3      3            4\n",
      "4      4            5\n",
      "5      5            6\n"
     ]
    }
   ],
   "source": [
    "import pandas as pd\n",
    "import numpy as np\n",
    "\n",
    "# Example dataframe\n",
    "data = {'freq': [1, 2, 3, 1, 2, 3, 4, 5, 6, 4, 5, 6]}\n",
    "df = pd.DataFrame(data)\n",
    "\n",
    "# Creating a new dataframe with unique 'freq' values\n",
    "# 'reset_index' gives us a new index and moves 'freq' to a column\n",
    "unique_freq_df = pd.DataFrame(df['freq'].unique(), columns=['Unique freq']).reset_index()\n",
    "unique_freq_df.rename(columns={'index': 'Index'}, inplace=True)\n",
    "\n",
    "print(unique_freq_df)"
   ]
  },
  {
   "cell_type": "markdown",
   "id": "96a005fc-bcce-4fea-a957-0e54bfc9ca80",
   "metadata": {
    "jp-MarkdownHeadingCollapsed": true,
    "tags": []
   },
   "source": [
    "## Repeat of the code with additional commenting from GPT"
   ]
  },
  {
   "cell_type": "code",
   "execution_count": 2,
   "id": "25f734dd-94ed-458a-a965-6d81abec991f",
   "metadata": {
    "tags": []
   },
   "outputs": [
    {
     "name": "stdout",
     "output_type": "stream",
     "text": [
      "   Index  Unique freq\n",
      "0      0            1\n",
      "1      1            2\n",
      "2      2            3\n",
      "3      3            4\n",
      "4      4            5\n",
      "5      5            6\n"
     ]
    }
   ],
   "source": [
    "# Import the pandas and numpy libraries\n",
    "import pandas as pd\n",
    "import numpy as np\n",
    "\n",
    "# Create an example DataFrame\n",
    "# 'data' is a dictionary with a key 'freq' and a list of integers as its value.\n",
    "data = {'freq': [1, 2, 3, 1, 2, 3, 4, 5, 6, 4, 5, 6]}\n",
    "# The pd.DataFrame() function is used to convert the dictionary into a pandas DataFrame.\n",
    "# This DataFrame, stored in 'df', has a single column named 'freq' with the provided values.\n",
    "df = pd.DataFrame(data)\n",
    "\n",
    "# Create a new DataFrame with unique 'freq' values\n",
    "# df['freq'].unique() extracts the unique values from the 'freq' column of df.\n",
    "# pd.DataFrame() is then used to create a new DataFrame from these unique values.\n",
    "# The 'columns=['Unique freq']' argument specifies the column name in the new DataFrame.\n",
    "unique_freq_df = pd.DataFrame(df['freq'].unique(), columns=['Unique freq'])\n",
    "\n",
    "# Reset the index of the new DataFrame\n",
    "# The .reset_index() method generates a new integer index for the DataFrame and\n",
    "# turns the old index into a column, effectively renumbering the rows from 0.\n",
    "# This is useful here because the unique() function's result doesn't include an index.\n",
    "unique_freq_df = unique_freq_df.reset_index()\n",
    "\n",
    "# Rename the 'index' column to 'Index'\n",
    "# The .rename() method allows renaming of index labels or column names.\n",
    "# The 'columns={'index': 'Index'}' argument specifies the old name ('index') and the new name ('Index').\n",
    "# The 'inplace=True' argument modifies the DataFrame in place, meaning it doesn't return a new DataFrame but instead changes the existing one.\n",
    "unique_freq_df.rename(columns={'index': 'Index'}, inplace=True)\n",
    "\n",
    "# Print the resulting DataFrame\n",
    "# The print() function displays the DataFrame 'unique_freq_df' to the console.\n",
    "# This DataFrame contains two columns: 'Index' and 'Unique freq', where 'Index' is a newly created index, and 'Unique freq' contains the unique values from the original 'freq' column.\n",
    "print(unique_freq_df)\n"
   ]
  }
 ],
 "metadata": {
  "kernelspec": {
   "display_name": "Python 3 (ipykernel)",
   "language": "python",
   "name": "python3"
  },
  "language_info": {
   "codemirror_mode": {
    "name": "ipython",
    "version": 3
   },
   "file_extension": ".py",
   "mimetype": "text/x-python",
   "name": "python",
   "nbconvert_exporter": "python",
   "pygments_lexer": "ipython3",
   "version": "3.10.11"
  }
 },
 "nbformat": 4,
 "nbformat_minor": 5
}
